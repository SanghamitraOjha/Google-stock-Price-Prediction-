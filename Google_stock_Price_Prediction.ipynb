{
  "nbformat": 4,
  "nbformat_minor": 0,
  "metadata": {
    "colab": {
      "provenance": [],
      "mount_file_id": "1_HIsT2QFpXIYP-MY5mXJbFemi75e1d2c",
      "authorship_tag": "ABX9TyOhkHqLELmhTS9zwEcF1KYQ",
      "include_colab_link": true
    },
    "kernelspec": {
      "name": "python3",
      "display_name": "Python 3"
    },
    "language_info": {
      "name": "python"
    }
  },
  "cells": [
    {
      "cell_type": "markdown",
      "metadata": {
        "id": "view-in-github",
        "colab_type": "text"
      },
      "source": [
        "<a href=\"https://colab.research.google.com/github/SanghamitraOjha/Google-stock-Price-Prediction-/blob/main/Google_stock_Price_Prediction.ipynb\" target=\"_parent\"><img src=\"https://colab.research.google.com/assets/colab-badge.svg\" alt=\"Open In Colab\"/></a>"
      ]
    },
    {
      "cell_type": "markdown",
      "source": [
        "Predict stock prices with Long short-term memory (LSTM)\n",
        "\n",
        "This simple example will show you how LSTM models predict time series data. Stock market data is a great choice for this because it's quite regular and widely available via the Internet.\n",
        "\n",
        "Install Requirements"
      ],
      "metadata": {
        "id": "KL2paUqCBnaw"
      }
    },
    {
      "cell_type": "code",
      "source": [
        "!pip install --upgrade pip"
      ],
      "metadata": {
        "id": "qXuYGOcBBmh0",
        "colab": {
          "base_uri": "https://localhost:8080/"
        },
        "outputId": "e8f38b3f-b03e-4f7a-8a61-60fca4e9664a"
      },
      "execution_count": null,
      "outputs": [
        {
          "output_type": "stream",
          "name": "stdout",
          "text": [
            "Requirement already satisfied: pip in /usr/local/lib/python3.10/dist-packages (23.1.2)\n"
          ]
        }
      ]
    },
    {
      "cell_type": "code",
      "source": [
        "!pip install pandas-datareader"
      ],
      "metadata": {
        "colab": {
          "base_uri": "https://localhost:8080/"
        },
        "id": "BQWBpLx3FpA5",
        "outputId": "3c1a97dd-bba1-4139-a3f1-cdf061045bc2"
      },
      "execution_count": null,
      "outputs": [
        {
          "output_type": "stream",
          "name": "stdout",
          "text": [
            "Requirement already satisfied: pandas-datareader in /usr/local/lib/python3.10/dist-packages (0.10.0)\n",
            "Requirement already satisfied: lxml in /usr/local/lib/python3.10/dist-packages (from pandas-datareader) (4.9.3)\n",
            "Requirement already satisfied: pandas>=0.23 in /usr/local/lib/python3.10/dist-packages (from pandas-datareader) (1.5.3)\n",
            "Requirement already satisfied: requests>=2.19.0 in /usr/local/lib/python3.10/dist-packages (from pandas-datareader) (2.27.1)\n",
            "Requirement already satisfied: python-dateutil>=2.8.1 in /usr/local/lib/python3.10/dist-packages (from pandas>=0.23->pandas-datareader) (2.8.2)\n",
            "Requirement already satisfied: pytz>=2020.1 in /usr/local/lib/python3.10/dist-packages (from pandas>=0.23->pandas-datareader) (2022.7.1)\n",
            "Requirement already satisfied: numpy>=1.21.0 in /usr/local/lib/python3.10/dist-packages (from pandas>=0.23->pandas-datareader) (1.22.4)\n",
            "Requirement already satisfied: urllib3<1.27,>=1.21.1 in /usr/local/lib/python3.10/dist-packages (from requests>=2.19.0->pandas-datareader) (1.26.16)\n",
            "Requirement already satisfied: certifi>=2017.4.17 in /usr/local/lib/python3.10/dist-packages (from requests>=2.19.0->pandas-datareader) (2023.5.7)\n",
            "Requirement already satisfied: charset-normalizer~=2.0.0 in /usr/local/lib/python3.10/dist-packages (from requests>=2.19.0->pandas-datareader) (2.0.12)\n",
            "Requirement already satisfied: idna<4,>=2.5 in /usr/local/lib/python3.10/dist-packages (from requests>=2.19.0->pandas-datareader) (3.4)\n",
            "Requirement already satisfied: six>=1.5 in /usr/local/lib/python3.10/dist-packages (from python-dateutil>=2.8.1->pandas>=0.23->pandas-datareader) (1.16.0)\n"
          ]
        }
      ]
    },
    {
      "cell_type": "code",
      "source": [
        "!apt install graphviz"
      ],
      "metadata": {
        "colab": {
          "base_uri": "https://localhost:8080/"
        },
        "id": "kz4ViLFqK8Ao",
        "outputId": "1a05298b-ee1e-4912-981c-f9f3bcf59b14"
      },
      "execution_count": null,
      "outputs": [
        {
          "output_type": "stream",
          "name": "stdout",
          "text": [
            "Reading package lists... Done\n",
            "Building dependency tree       \n",
            "Reading state information... Done\n",
            "graphviz is already the newest version (2.42.2-3build2).\n",
            "0 upgraded, 0 newly installed, 0 to remove and 15 not upgraded.\n"
          ]
        }
      ]
    },
    {
      "cell_type": "code",
      "source": [
        "!pip install pydot pydot-ng"
      ],
      "metadata": {
        "colab": {
          "base_uri": "https://localhost:8080/"
        },
        "id": "_d2ClOexLSIz",
        "outputId": "881d5c4e-5777-4b45-93fd-e77614a7b966"
      },
      "execution_count": null,
      "outputs": [
        {
          "output_type": "stream",
          "name": "stdout",
          "text": [
            "Requirement already satisfied: pydot in /usr/local/lib/python3.10/dist-packages (1.4.2)\n",
            "Requirement already satisfied: pydot-ng in /usr/local/lib/python3.10/dist-packages (2.0.0)\n",
            "Requirement already satisfied: pyparsing>=2.1.4 in /usr/local/lib/python3.10/dist-packages (from pydot) (3.1.0)\n"
          ]
        }
      ]
    },
    {
      "cell_type": "markdown",
      "source": [
        "Introduction\n",
        "\n",
        "LSTMs are very powerful in sequence prediction problems. They can store past information."
      ],
      "metadata": {
        "id": "LvdoKtx_YYv9"
      }
    },
    {
      "cell_type": "markdown",
      "source": [
        "Loading the dataset\n",
        "\n",
        "I use pandasdatareader to get the historical stock prices from Yahoo!finance\n",
        "\n",
        "For this example, I get only the historical data till the end of training_end_data."
      ],
      "metadata": {
        "id": "vkLyg2u_ZOUz"
      }
    },
    {
      "cell_type": "code",
      "source": [
        "import numpy as np\n",
        "import matplotlib.pyplot as plt\n",
        "import pandas as pd\n",
        "from google.colab import drive"
      ],
      "metadata": {
        "id": "gC7Uw2tzZouf"
      },
      "execution_count": null,
      "outputs": []
    },
    {
      "cell_type": "code",
      "source": [
        "drive.mount('/content/drive')"
      ],
      "metadata": {
        "id": "P2_B1Fj1pRne",
        "colab": {
          "base_uri": "https://localhost:8080/"
        },
        "outputId": "01a41be2-4d1b-496e-9dbf-ad16b5e8a733"
      },
      "execution_count": null,
      "outputs": [
        {
          "output_type": "stream",
          "name": "stdout",
          "text": [
            "Drive already mounted at /content/drive; to attempt to forcibly remount, call drive.mount(\"/content/drive\", force_remount=True).\n"
          ]
        }
      ]
    },
    {
      "cell_type": "code",
      "source": [
        "import pandas as pd"
      ],
      "metadata": {
        "id": "BnOZQgaisDJM"
      },
      "execution_count": null,
      "outputs": []
    },
    {
      "cell_type": "markdown",
      "source": [
        " RECURRENT NEURAL NETWORK"
      ],
      "metadata": {
        "id": "vVqa5BNND58w"
      }
    },
    {
      "cell_type": "markdown",
      "source": [
        "Part 1 Data Processing"
      ],
      "metadata": {
        "id": "W7TcTDbjEY8V"
      }
    },
    {
      "cell_type": "markdown",
      "source": [
        "Importing the training set"
      ],
      "metadata": {
        "id": "yziCShEBEd1W"
      }
    },
    {
      "cell_type": "code",
      "source": [
        "dataset_train = pd.read_csv('/content/drive/MyDrive/Google_Stock_Price_Train.csv')"
      ],
      "metadata": {
        "id": "sRgoq5HL7qPg"
      },
      "execution_count": null,
      "outputs": []
    },
    {
      "cell_type": "code",
      "source": [
        "dataset_train.head()"
      ],
      "metadata": {
        "id": "1utlLXTuB2kI",
        "colab": {
          "base_uri": "https://localhost:8080/",
          "height": 443
        },
        "outputId": "eec43879-f027-4ad1-ce68-da97657f41f1"
      },
      "execution_count": null,
      "outputs": [
        {
          "output_type": "execute_result",
          "data": {
            "text/plain": [
              "         Date    Open    High     Low   Close       Volume\n",
              "0  01-03-2012  325.25  332.83  324.97  663.59    73,80,500\n",
              "1  01-04-2012  331.27  333.87  329.08  666.45    57,49,400\n",
              "2  01-05-2012  329.83  330.75  326.89  657.21    65,90,300\n",
              "3  01-06-2012  328.34  328.77  323.68  648.24    54,05,900\n",
              "4  01-09-2012  322.04  322.29  309.46  620.76  1,16,88,800"
            ],
            "text/html": [
              "\n",
              "\n",
              "  <div id=\"df-15d64c2a-97c4-4bdc-a370-e2476a27a34b\">\n",
              "    <div class=\"colab-df-container\">\n",
              "      <div>\n",
              "<style scoped>\n",
              "    .dataframe tbody tr th:only-of-type {\n",
              "        vertical-align: middle;\n",
              "    }\n",
              "\n",
              "    .dataframe tbody tr th {\n",
              "        vertical-align: top;\n",
              "    }\n",
              "\n",
              "    .dataframe thead th {\n",
              "        text-align: right;\n",
              "    }\n",
              "</style>\n",
              "<table border=\"1\" class=\"dataframe\">\n",
              "  <thead>\n",
              "    <tr style=\"text-align: right;\">\n",
              "      <th></th>\n",
              "      <th>Date</th>\n",
              "      <th>Open</th>\n",
              "      <th>High</th>\n",
              "      <th>Low</th>\n",
              "      <th>Close</th>\n",
              "      <th>Volume</th>\n",
              "    </tr>\n",
              "  </thead>\n",
              "  <tbody>\n",
              "    <tr>\n",
              "      <th>0</th>\n",
              "      <td>01-03-2012</td>\n",
              "      <td>325.25</td>\n",
              "      <td>332.83</td>\n",
              "      <td>324.97</td>\n",
              "      <td>663.59</td>\n",
              "      <td>73,80,500</td>\n",
              "    </tr>\n",
              "    <tr>\n",
              "      <th>1</th>\n",
              "      <td>01-04-2012</td>\n",
              "      <td>331.27</td>\n",
              "      <td>333.87</td>\n",
              "      <td>329.08</td>\n",
              "      <td>666.45</td>\n",
              "      <td>57,49,400</td>\n",
              "    </tr>\n",
              "    <tr>\n",
              "      <th>2</th>\n",
              "      <td>01-05-2012</td>\n",
              "      <td>329.83</td>\n",
              "      <td>330.75</td>\n",
              "      <td>326.89</td>\n",
              "      <td>657.21</td>\n",
              "      <td>65,90,300</td>\n",
              "    </tr>\n",
              "    <tr>\n",
              "      <th>3</th>\n",
              "      <td>01-06-2012</td>\n",
              "      <td>328.34</td>\n",
              "      <td>328.77</td>\n",
              "      <td>323.68</td>\n",
              "      <td>648.24</td>\n",
              "      <td>54,05,900</td>\n",
              "    </tr>\n",
              "    <tr>\n",
              "      <th>4</th>\n",
              "      <td>01-09-2012</td>\n",
              "      <td>322.04</td>\n",
              "      <td>322.29</td>\n",
              "      <td>309.46</td>\n",
              "      <td>620.76</td>\n",
              "      <td>1,16,88,800</td>\n",
              "    </tr>\n",
              "  </tbody>\n",
              "</table>\n",
              "</div>\n",
              "      <button class=\"colab-df-convert\" onclick=\"convertToInteractive('df-15d64c2a-97c4-4bdc-a370-e2476a27a34b')\"\n",
              "              title=\"Convert this dataframe to an interactive table.\"\n",
              "              style=\"display:none;\">\n",
              "\n",
              "  <svg xmlns=\"http://www.w3.org/2000/svg\" height=\"24px\"viewBox=\"0 0 24 24\"\n",
              "       width=\"24px\">\n",
              "    <path d=\"M0 0h24v24H0V0z\" fill=\"none\"/>\n",
              "    <path d=\"M18.56 5.44l.94 2.06.94-2.06 2.06-.94-2.06-.94-.94-2.06-.94 2.06-2.06.94zm-11 1L8.5 8.5l.94-2.06 2.06-.94-2.06-.94L8.5 2.5l-.94 2.06-2.06.94zm10 10l.94 2.06.94-2.06 2.06-.94-2.06-.94-.94-2.06-.94 2.06-2.06.94z\"/><path d=\"M17.41 7.96l-1.37-1.37c-.4-.4-.92-.59-1.43-.59-.52 0-1.04.2-1.43.59L10.3 9.45l-7.72 7.72c-.78.78-.78 2.05 0 2.83L4 21.41c.39.39.9.59 1.41.59.51 0 1.02-.2 1.41-.59l7.78-7.78 2.81-2.81c.8-.78.8-2.07 0-2.86zM5.41 20L4 18.59l7.72-7.72 1.47 1.35L5.41 20z\"/>\n",
              "  </svg>\n",
              "      </button>\n",
              "\n",
              "\n",
              "\n",
              "    <div id=\"df-b0a83b19-fe4f-4197-bcea-b5957d179c07\">\n",
              "      <button class=\"colab-df-quickchart\" onclick=\"quickchart('df-b0a83b19-fe4f-4197-bcea-b5957d179c07')\"\n",
              "              title=\"Suggest charts.\"\n",
              "              style=\"display:none;\">\n",
              "\n",
              "<svg xmlns=\"http://www.w3.org/2000/svg\" height=\"24px\"viewBox=\"0 0 24 24\"\n",
              "     width=\"24px\">\n",
              "    <g>\n",
              "        <path d=\"M19 3H5c-1.1 0-2 .9-2 2v14c0 1.1.9 2 2 2h14c1.1 0 2-.9 2-2V5c0-1.1-.9-2-2-2zM9 17H7v-7h2v7zm4 0h-2V7h2v10zm4 0h-2v-4h2v4z\"/>\n",
              "    </g>\n",
              "</svg>\n",
              "      </button>\n",
              "    </div>\n",
              "\n",
              "<style>\n",
              "  .colab-df-quickchart {\n",
              "    background-color: #E8F0FE;\n",
              "    border: none;\n",
              "    border-radius: 50%;\n",
              "    cursor: pointer;\n",
              "    display: none;\n",
              "    fill: #1967D2;\n",
              "    height: 32px;\n",
              "    padding: 0 0 0 0;\n",
              "    width: 32px;\n",
              "  }\n",
              "\n",
              "  .colab-df-quickchart:hover {\n",
              "    background-color: #E2EBFA;\n",
              "    box-shadow: 0px 1px 2px rgba(60, 64, 67, 0.3), 0px 1px 3px 1px rgba(60, 64, 67, 0.15);\n",
              "    fill: #174EA6;\n",
              "  }\n",
              "\n",
              "  [theme=dark] .colab-df-quickchart {\n",
              "    background-color: #3B4455;\n",
              "    fill: #D2E3FC;\n",
              "  }\n",
              "\n",
              "  [theme=dark] .colab-df-quickchart:hover {\n",
              "    background-color: #434B5C;\n",
              "    box-shadow: 0px 1px 3px 1px rgba(0, 0, 0, 0.15);\n",
              "    filter: drop-shadow(0px 1px 2px rgba(0, 0, 0, 0.3));\n",
              "    fill: #FFFFFF;\n",
              "  }\n",
              "</style>\n",
              "\n",
              "    <script>\n",
              "      async function quickchart(key) {\n",
              "        const containerElement = document.querySelector('#' + key);\n",
              "        const charts = await google.colab.kernel.invokeFunction(\n",
              "            'suggestCharts', [key], {});\n",
              "      }\n",
              "    </script>\n",
              "\n",
              "      <script>\n",
              "\n",
              "function displayQuickchartButton(domScope) {\n",
              "  let quickchartButtonEl =\n",
              "    domScope.querySelector('#df-b0a83b19-fe4f-4197-bcea-b5957d179c07 button.colab-df-quickchart');\n",
              "  quickchartButtonEl.style.display =\n",
              "    google.colab.kernel.accessAllowed ? 'block' : 'none';\n",
              "}\n",
              "\n",
              "        displayQuickchartButton(document);\n",
              "      </script>\n",
              "      <style>\n",
              "    .colab-df-container {\n",
              "      display:flex;\n",
              "      flex-wrap:wrap;\n",
              "      gap: 12px;\n",
              "    }\n",
              "\n",
              "    .colab-df-convert {\n",
              "      background-color: #E8F0FE;\n",
              "      border: none;\n",
              "      border-radius: 50%;\n",
              "      cursor: pointer;\n",
              "      display: none;\n",
              "      fill: #1967D2;\n",
              "      height: 32px;\n",
              "      padding: 0 0 0 0;\n",
              "      width: 32px;\n",
              "    }\n",
              "\n",
              "    .colab-df-convert:hover {\n",
              "      background-color: #E2EBFA;\n",
              "      box-shadow: 0px 1px 2px rgba(60, 64, 67, 0.3), 0px 1px 3px 1px rgba(60, 64, 67, 0.15);\n",
              "      fill: #174EA6;\n",
              "    }\n",
              "\n",
              "    [theme=dark] .colab-df-convert {\n",
              "      background-color: #3B4455;\n",
              "      fill: #D2E3FC;\n",
              "    }\n",
              "\n",
              "    [theme=dark] .colab-df-convert:hover {\n",
              "      background-color: #434B5C;\n",
              "      box-shadow: 0px 1px 3px 1px rgba(0, 0, 0, 0.15);\n",
              "      filter: drop-shadow(0px 1px 2px rgba(0, 0, 0, 0.3));\n",
              "      fill: #FFFFFF;\n",
              "    }\n",
              "  </style>\n",
              "\n",
              "      <script>\n",
              "        const buttonEl =\n",
              "          document.querySelector('#df-15d64c2a-97c4-4bdc-a370-e2476a27a34b button.colab-df-convert');\n",
              "        buttonEl.style.display =\n",
              "          google.colab.kernel.accessAllowed ? 'block' : 'none';\n",
              "\n",
              "        async function convertToInteractive(key) {\n",
              "          const element = document.querySelector('#df-15d64c2a-97c4-4bdc-a370-e2476a27a34b');\n",
              "          const dataTable =\n",
              "            await google.colab.kernel.invokeFunction('convertToInteractive',\n",
              "                                                     [key], {});\n",
              "          if (!dataTable) return;\n",
              "\n",
              "          const docLinkHtml = 'Like what you see? Visit the ' +\n",
              "            '<a target=\"_blank\" href=https://colab.research.google.com/notebooks/data_table.ipynb>data table notebook</a>'\n",
              "            + ' to learn more about interactive tables.';\n",
              "          element.innerHTML = '';\n",
              "          dataTable['output_type'] = 'display_data';\n",
              "          await google.colab.output.renderOutput(dataTable, element);\n",
              "          const docLink = document.createElement('div');\n",
              "          docLink.innerHTML = docLinkHtml;\n",
              "          element.appendChild(docLink);\n",
              "        }\n",
              "      </script>\n",
              "    </div>\n",
              "  </div>\n"
            ]
          },
          "metadata": {},
          "execution_count": 5
        }
      ]
    },
    {
      "cell_type": "code",
      "source": [
        "trainning_set = dataset_train.iloc[:,1:2].values\n",
        "trainning_set"
      ],
      "metadata": {
        "id": "ibpQ-GbpE7Ui",
        "colab": {
          "base_uri": "https://localhost:8080/"
        },
        "outputId": "8f69132d-63f5-4168-cf66-6824c41b481c"
      },
      "execution_count": null,
      "outputs": [
        {
          "output_type": "execute_result",
          "data": {
            "text/plain": [
              "array([[325.25],\n",
              "       [331.27],\n",
              "       [329.83],\n",
              "       ...,\n",
              "       [793.7 ],\n",
              "       [783.33],\n",
              "       [782.75]])"
            ]
          },
          "metadata": {},
          "execution_count": 6
        }
      ]
    },
    {
      "cell_type": "markdown",
      "source": [
        "FEATURE SCALING\n"
      ],
      "metadata": {
        "id": "RWiJdmPvFq03"
      }
    },
    {
      "cell_type": "code",
      "source": [
        "from sklearn.preprocessing import MinMaxScaler\n",
        "sc= MinMaxScaler()\n",
        "trainning_set_scaled = sc.fit_transform(trainning_set)"
      ],
      "metadata": {
        "id": "3XIa80wzFoTs"
      },
      "execution_count": null,
      "outputs": []
    },
    {
      "cell_type": "code",
      "source": [
        "trainning_set.shape"
      ],
      "metadata": {
        "id": "hSQzW7gqGjSF",
        "colab": {
          "base_uri": "https://localhost:8080/"
        },
        "outputId": "104b2c86-0beb-43fb-f07c-f0a4ef178d97"
      },
      "execution_count": null,
      "outputs": [
        {
          "output_type": "execute_result",
          "data": {
            "text/plain": [
              "(1258, 1)"
            ]
          },
          "metadata": {},
          "execution_count": 8
        }
      ]
    },
    {
      "cell_type": "markdown",
      "source": [
        "Creating a Data structure with 60 time steps and one out put"
      ],
      "metadata": {
        "id": "L_IWL0nzGxy4"
      }
    },
    {
      "cell_type": "code",
      "source": [
        "x_train = []\n",
        "y_train = []\n",
        "for i in range(60,1258):\n",
        "  x_train.append(trainning_set_scaled[i-60:i,0])\n",
        "  y_train.append(trainning_set_scaled[i,0])\n",
        "\n",
        "x_train, y_train = np.array(x_train),np.array(y_train)"
      ],
      "metadata": {
        "id": "-h59ToY-HBlE"
      },
      "execution_count": null,
      "outputs": []
    },
    {
      "cell_type": "markdown",
      "source": [
        "Reshaping"
      ],
      "metadata": {
        "id": "3rXHFgVOc_Mq"
      }
    },
    {
      "cell_type": "code",
      "source": [
        "x_train = np.reshape(x_train, (x_train.shape[0],x_train.shape[1],1))"
      ],
      "metadata": {
        "id": "XyvBcqzSc9wQ"
      },
      "execution_count": null,
      "outputs": []
    },
    {
      "cell_type": "markdown",
      "source": [
        "Part - 2\n",
        "\n",
        "BUILDING AND TRAINNING THE RNN"
      ],
      "metadata": {
        "id": "lcFEKrf7I46T"
      }
    },
    {
      "cell_type": "markdown",
      "source": [
        "Importing the keras libraries and packages"
      ],
      "metadata": {
        "id": "iU-P8j2LJIiH"
      }
    },
    {
      "cell_type": "code",
      "source": [
        "from keras.models import Sequential\n",
        "from keras.layers import Dense\n",
        "from keras.layers import LSTM\n",
        "from keras.layers import Dropout"
      ],
      "metadata": {
        "id": "MhlDP-JiI2zY"
      },
      "execution_count": null,
      "outputs": []
    },
    {
      "cell_type": "markdown",
      "source": [
        "Initialisaing the RNN"
      ],
      "metadata": {
        "id": "A1HZbuABJ2kf"
      }
    },
    {
      "cell_type": "code",
      "source": [
        "regressor = Sequential()"
      ],
      "metadata": {
        "id": "hozqGLxZJ1AX"
      },
      "execution_count": null,
      "outputs": []
    },
    {
      "cell_type": "markdown",
      "source": [
        "Adding the 1st LSTM layer and some Dropout regularisation"
      ],
      "metadata": {
        "id": "AnwaEYDRKH9c"
      }
    },
    {
      "cell_type": "code",
      "source": [
        "regressor.add(LSTM(units = 50, return_sequences = True, input_shape = (x_train.shape[1],1)))\n",
        "regressor.add(Dropout(0.2))"
      ],
      "metadata": {
        "id": "KavqhVmeKXb7"
      },
      "execution_count": null,
      "outputs": []
    },
    {
      "cell_type": "markdown",
      "source": [
        "Adding the 2nd LSTM layer and some Dropout regularisation\n",
        "\n"
      ],
      "metadata": {
        "id": "dGEZ3RXvLk4s"
      }
    },
    {
      "cell_type": "code",
      "source": [
        "regressor.add(LSTM(units = 50, return_sequences = True))\n",
        "regressor.add(Dropout(0.2))"
      ],
      "metadata": {
        "id": "BV9xngPwLY_V"
      },
      "execution_count": null,
      "outputs": []
    },
    {
      "cell_type": "markdown",
      "source": [
        "Adding the 3rd LSTM layer and some Dropout regularisation"
      ],
      "metadata": {
        "id": "1y_TlJRBL8VB"
      }
    },
    {
      "cell_type": "code",
      "source": [
        "regressor.add(LSTM(units = 50, return_sequences = True))\n",
        "regressor.add(Dropout(0.2))"
      ],
      "metadata": {
        "id": "PfBrGsYfL6n7"
      },
      "execution_count": null,
      "outputs": []
    },
    {
      "cell_type": "markdown",
      "source": [
        "Adding the 4th LSTM layer and some Dropout regularisation"
      ],
      "metadata": {
        "id": "LT95E8v9MRBx"
      }
    },
    {
      "cell_type": "code",
      "source": [
        "regressor.add(LSTM(units = 50))\n",
        "regressor.add(Dropout(0.2))"
      ],
      "metadata": {
        "id": "YZPLPWmBMTsu"
      },
      "execution_count": null,
      "outputs": []
    },
    {
      "cell_type": "markdown",
      "source": [
        "Adding the output layer"
      ],
      "metadata": {
        "id": "6pFFrJbrMmxA"
      }
    },
    {
      "cell_type": "code",
      "source": [
        "regressor.add(Dense(units = 1))"
      ],
      "metadata": {
        "id": "KM8sG8FIMtVX"
      },
      "execution_count": null,
      "outputs": []
    },
    {
      "cell_type": "markdown",
      "source": [
        "Compiling the RNN"
      ],
      "metadata": {
        "id": "L9GKGVlCM_4v"
      }
    },
    {
      "cell_type": "code",
      "source": [
        "regressor.compile(optimizer = 'adam', loss = 'mean_squared_error')"
      ],
      "metadata": {
        "id": "BzlRfhqHM-ip"
      },
      "execution_count": null,
      "outputs": []
    },
    {
      "cell_type": "markdown",
      "source": [
        "Fitting the RNN to the Trainning set"
      ],
      "metadata": {
        "id": "lXfLX0LvNfNk"
      }
    },
    {
      "cell_type": "code",
      "source": [
        "regressor.fit(x_train,y_train, epochs = 100, batch_size= 32)"
      ],
      "metadata": {
        "id": "Nxrgl6c0NpOc",
        "colab": {
          "base_uri": "https://localhost:8080/"
        },
        "outputId": "3642f002-3c27-41dd-eac3-6998e94501d9"
      },
      "execution_count": null,
      "outputs": [
        {
          "output_type": "stream",
          "name": "stdout",
          "text": [
            "Epoch 1/100\n",
            "38/38 [==============================] - 5s 131ms/step - loss: 0.0282\n",
            "Epoch 2/100\n",
            "38/38 [==============================] - 7s 185ms/step - loss: 0.0060\n",
            "Epoch 3/100\n",
            "38/38 [==============================] - 6s 161ms/step - loss: 0.0049\n",
            "Epoch 4/100\n",
            "38/38 [==============================] - 6s 172ms/step - loss: 0.0050\n",
            "Epoch 5/100\n",
            "38/38 [==============================] - 5s 139ms/step - loss: 0.0049\n",
            "Epoch 6/100\n",
            "38/38 [==============================] - 5s 132ms/step - loss: 0.0053\n",
            "Epoch 7/100\n",
            "38/38 [==============================] - 7s 186ms/step - loss: 0.0048\n",
            "Epoch 8/100\n",
            "38/38 [==============================] - 5s 131ms/step - loss: 0.0048\n",
            "Epoch 9/100\n",
            "38/38 [==============================] - 6s 160ms/step - loss: 0.0055\n",
            "Epoch 10/100\n",
            "38/38 [==============================] - 6s 152ms/step - loss: 0.0043\n",
            "Epoch 11/100\n",
            "38/38 [==============================] - 5s 132ms/step - loss: 0.0045\n",
            "Epoch 12/100\n",
            "38/38 [==============================] - 7s 185ms/step - loss: 0.0041\n",
            "Epoch 13/100\n",
            "38/38 [==============================] - 5s 133ms/step - loss: 0.0040\n",
            "Epoch 14/100\n",
            "38/38 [==============================] - 6s 157ms/step - loss: 0.0035\n",
            "Epoch 15/100\n",
            "38/38 [==============================] - 6s 158ms/step - loss: 0.0039\n",
            "Epoch 16/100\n",
            "38/38 [==============================] - 6s 160ms/step - loss: 0.0037\n",
            "Epoch 17/100\n",
            "38/38 [==============================] - 8s 213ms/step - loss: 0.0036\n",
            "Epoch 18/100\n",
            "38/38 [==============================] - 5s 132ms/step - loss: 0.0040\n",
            "Epoch 19/100\n",
            "38/38 [==============================] - 6s 157ms/step - loss: 0.0042\n",
            "Epoch 20/100\n",
            "38/38 [==============================] - 6s 154ms/step - loss: 0.0039\n",
            "Epoch 21/100\n",
            "38/38 [==============================] - 5s 132ms/step - loss: 0.0036\n",
            "Epoch 22/100\n",
            "38/38 [==============================] - 7s 187ms/step - loss: 0.0036\n",
            "Epoch 23/100\n",
            "38/38 [==============================] - 5s 132ms/step - loss: 0.0031\n",
            "Epoch 24/100\n",
            "38/38 [==============================] - 6s 154ms/step - loss: 0.0033\n",
            "Epoch 25/100\n",
            "38/38 [==============================] - 6s 165ms/step - loss: 0.0034\n",
            "Epoch 26/100\n",
            "38/38 [==============================] - 5s 134ms/step - loss: 0.0035\n",
            "Epoch 27/100\n",
            "38/38 [==============================] - 7s 189ms/step - loss: 0.0030\n",
            "Epoch 28/100\n",
            "38/38 [==============================] - 5s 135ms/step - loss: 0.0028\n",
            "Epoch 29/100\n",
            "38/38 [==============================] - 6s 156ms/step - loss: 0.0031\n",
            "Epoch 30/100\n",
            "38/38 [==============================] - 6s 165ms/step - loss: 0.0033\n",
            "Epoch 31/100\n",
            "38/38 [==============================] - 5s 134ms/step - loss: 0.0029\n",
            "Epoch 32/100\n",
            "38/38 [==============================] - 7s 190ms/step - loss: 0.0030\n",
            "Epoch 33/100\n",
            "38/38 [==============================] - 6s 152ms/step - loss: 0.0032\n",
            "Epoch 34/100\n",
            "38/38 [==============================] - 8s 224ms/step - loss: 0.0031\n",
            "Epoch 35/100\n",
            "38/38 [==============================] - 6s 151ms/step - loss: 0.0028\n",
            "Epoch 36/100\n",
            "38/38 [==============================] - 7s 193ms/step - loss: 0.0028\n",
            "Epoch 37/100\n",
            "38/38 [==============================] - 7s 193ms/step - loss: 0.0027\n",
            "Epoch 38/100\n",
            "38/38 [==============================] - 8s 205ms/step - loss: 0.0028\n",
            "Epoch 39/100\n",
            "38/38 [==============================] - 8s 203ms/step - loss: 0.0024\n",
            "Epoch 40/100\n",
            "38/38 [==============================] - 8s 214ms/step - loss: 0.0024\n",
            "Epoch 41/100\n",
            "38/38 [==============================] - 7s 185ms/step - loss: 0.0025\n",
            "Epoch 42/100\n",
            "38/38 [==============================] - 8s 204ms/step - loss: 0.0025\n",
            "Epoch 43/100\n",
            "38/38 [==============================] - 8s 199ms/step - loss: 0.0022\n",
            "Epoch 44/100\n",
            "38/38 [==============================] - 8s 216ms/step - loss: 0.0029\n",
            "Epoch 45/100\n",
            "38/38 [==============================] - 10s 265ms/step - loss: 0.0024\n",
            "Epoch 46/100\n",
            "38/38 [==============================] - 7s 183ms/step - loss: 0.0026\n",
            "Epoch 47/100\n",
            "38/38 [==============================] - 10s 249ms/step - loss: 0.0024\n",
            "Epoch 48/100\n",
            "38/38 [==============================] - 7s 192ms/step - loss: 0.0023\n",
            "Epoch 49/100\n",
            "38/38 [==============================] - 9s 232ms/step - loss: 0.0022\n",
            "Epoch 50/100\n",
            "38/38 [==============================] - 8s 202ms/step - loss: 0.0026\n",
            "Epoch 51/100\n",
            "38/38 [==============================] - 9s 228ms/step - loss: 0.0023\n",
            "Epoch 52/100\n",
            "38/38 [==============================] - 8s 209ms/step - loss: 0.0022\n",
            "Epoch 53/100\n",
            "38/38 [==============================] - 8s 215ms/step - loss: 0.0021\n",
            "Epoch 54/100\n",
            "38/38 [==============================] - 8s 205ms/step - loss: 0.0021\n",
            "Epoch 55/100\n",
            "38/38 [==============================] - 8s 214ms/step - loss: 0.0020\n",
            "Epoch 56/100\n",
            "38/38 [==============================] - 8s 199ms/step - loss: 0.0024\n",
            "Epoch 57/100\n",
            "38/38 [==============================] - 8s 218ms/step - loss: 0.0019\n",
            "Epoch 58/100\n",
            "38/38 [==============================] - 9s 246ms/step - loss: 0.0022\n",
            "Epoch 59/100\n",
            "38/38 [==============================] - 7s 194ms/step - loss: 0.0020\n",
            "Epoch 60/100\n",
            "38/38 [==============================] - 10s 256ms/step - loss: 0.0023\n",
            "Epoch 61/100\n",
            "38/38 [==============================] - 8s 214ms/step - loss: 0.0020\n",
            "Epoch 62/100\n",
            "38/38 [==============================] - 14s 373ms/step - loss: 0.0020\n",
            "Epoch 63/100\n",
            "38/38 [==============================] - 9s 235ms/step - loss: 0.0023\n",
            "Epoch 64/100\n",
            "38/38 [==============================] - 7s 168ms/step - loss: 0.0020\n",
            "Epoch 65/100\n",
            "38/38 [==============================] - 8s 218ms/step - loss: 0.0019\n",
            "Epoch 66/100\n",
            "38/38 [==============================] - 9s 233ms/step - loss: 0.0022\n",
            "Epoch 67/100\n",
            "38/38 [==============================] - 8s 213ms/step - loss: 0.0020\n",
            "Epoch 68/100\n",
            "38/38 [==============================] - 6s 158ms/step - loss: 0.0020\n",
            "Epoch 69/100\n",
            "38/38 [==============================] - 7s 198ms/step - loss: 0.0018\n",
            "Epoch 70/100\n",
            "38/38 [==============================] - 6s 146ms/step - loss: 0.0018\n",
            "Epoch 71/100\n",
            "38/38 [==============================] - 6s 153ms/step - loss: 0.0018\n",
            "Epoch 72/100\n",
            "38/38 [==============================] - 7s 180ms/step - loss: 0.0019\n",
            "Epoch 73/100\n",
            "38/38 [==============================] - 5s 137ms/step - loss: 0.0018\n",
            "Epoch 74/100\n",
            "38/38 [==============================] - 7s 190ms/step - loss: 0.0018\n",
            "Epoch 75/100\n",
            "38/38 [==============================] - 5s 137ms/step - loss: 0.0019\n",
            "Epoch 76/100\n",
            "38/38 [==============================] - 6s 157ms/step - loss: 0.0018\n",
            "Epoch 77/100\n",
            "38/38 [==============================] - 6s 167ms/step - loss: 0.0020\n",
            "Epoch 78/100\n",
            "38/38 [==============================] - 5s 135ms/step - loss: 0.0018\n",
            "Epoch 79/100\n",
            "38/38 [==============================] - 7s 188ms/step - loss: 0.0017\n",
            "Epoch 80/100\n",
            "38/38 [==============================] - 5s 133ms/step - loss: 0.0017\n",
            "Epoch 81/100\n",
            "38/38 [==============================] - 6s 156ms/step - loss: 0.0016\n",
            "Epoch 82/100\n",
            "38/38 [==============================] - 6s 164ms/step - loss: 0.0017\n",
            "Epoch 83/100\n",
            "38/38 [==============================] - 5s 139ms/step - loss: 0.0015\n",
            "Epoch 84/100\n",
            "38/38 [==============================] - 7s 190ms/step - loss: 0.0017\n",
            "Epoch 85/100\n",
            "38/38 [==============================] - 5s 134ms/step - loss: 0.0015\n",
            "Epoch 86/100\n",
            "38/38 [==============================] - 6s 161ms/step - loss: 0.0017\n",
            "Epoch 87/100\n",
            "38/38 [==============================] - 6s 158ms/step - loss: 0.0016\n",
            "Epoch 88/100\n",
            "38/38 [==============================] - 5s 132ms/step - loss: 0.0016\n",
            "Epoch 89/100\n",
            "38/38 [==============================] - 7s 188ms/step - loss: 0.0017\n",
            "Epoch 90/100\n",
            "38/38 [==============================] - 5s 133ms/step - loss: 0.0017\n",
            "Epoch 91/100\n",
            "38/38 [==============================] - 6s 154ms/step - loss: 0.0014\n",
            "Epoch 92/100\n",
            "38/38 [==============================] - 6s 163ms/step - loss: 0.0015\n",
            "Epoch 93/100\n",
            "38/38 [==============================] - 5s 133ms/step - loss: 0.0015\n",
            "Epoch 94/100\n",
            "38/38 [==============================] - 7s 190ms/step - loss: 0.0017\n",
            "Epoch 95/100\n",
            "38/38 [==============================] - 5s 133ms/step - loss: 0.0014\n",
            "Epoch 96/100\n",
            "38/38 [==============================] - 6s 166ms/step - loss: 0.0015\n",
            "Epoch 97/100\n",
            "38/38 [==============================] - 8s 217ms/step - loss: 0.0015\n",
            "Epoch 98/100\n",
            "38/38 [==============================] - 5s 134ms/step - loss: 0.0015\n",
            "Epoch 99/100\n",
            "38/38 [==============================] - 6s 167ms/step - loss: 0.0016\n",
            "Epoch 100/100\n",
            "38/38 [==============================] - 6s 151ms/step - loss: 0.0016\n"
          ]
        },
        {
          "output_type": "execute_result",
          "data": {
            "text/plain": [
              "<keras.callbacks.History at 0x7f8941098400>"
            ]
          },
          "metadata": {},
          "execution_count": 29
        }
      ]
    },
    {
      "cell_type": "code",
      "source": [
        "pred= regressor.predict(x_train)"
      ],
      "metadata": {
        "id": "1YkOGxYEQtPg",
        "colab": {
          "base_uri": "https://localhost:8080/"
        },
        "outputId": "b02356e8-883c-431a-d989-2ba396e74aac"
      },
      "execution_count": null,
      "outputs": [
        {
          "output_type": "stream",
          "name": "stdout",
          "text": [
            "38/38 [==============================] - 3s 33ms/step\n"
          ]
        }
      ]
    },
    {
      "cell_type": "markdown",
      "source": [
        "Evaluating the RNN"
      ],
      "metadata": {
        "id": "AJeAD2RNQ8hd"
      }
    },
    {
      "cell_type": "code",
      "source": [
        "import math\n",
        "from sklearn.metrics import mean_squared_error\n",
        "rmse = math.sqrt(mean_squared_error(y_train,pred))\n",
        "rmse"
      ],
      "metadata": {
        "id": "AmCL-oDzRK73",
        "colab": {
          "base_uri": "https://localhost:8080/"
        },
        "outputId": "b1868c92-0373-470f-b0fb-424cd2b8cf69"
      },
      "execution_count": null,
      "outputs": [
        {
          "output_type": "execute_result",
          "data": {
            "text/plain": [
              "0.4889737599312275"
            ]
          },
          "metadata": {},
          "execution_count": 21
        }
      ]
    },
    {
      "cell_type": "markdown",
      "source": [
        "Part - 3\n",
        "\n",
        "MAKING THE PREDICTIONS AND VISUALISING THE RESULTS"
      ],
      "metadata": {
        "id": "EKGWDC-gR-_3"
      }
    },
    {
      "cell_type": "markdown",
      "source": [
        "Getting the real stock price of 2017"
      ],
      "metadata": {
        "id": "YzoE28IkSK05"
      }
    },
    {
      "cell_type": "code",
      "source": [
        "dataset_test = pd.read_csv('/content/drive/MyDrive/Google_Stock_Price_Test.csv2017')\n",
        "real_stock_price = dataset_test.iloc[:, 1:2].values"
      ],
      "metadata": {
        "id": "sBisS2ZB3Ms4"
      },
      "execution_count": null,
      "outputs": []
    },
    {
      "cell_type": "markdown",
      "source": [
        "Getting the predicted stock price of 2017"
      ],
      "metadata": {
        "id": "ZtJzcMCdT2T5"
      }
    },
    {
      "cell_type": "code",
      "source": [
        "dataset_total = pd.concat((dataset_train['Open'], dataset_test['Open']), axis= 0 )\n",
        "inputs = dataset_total[len(dataset_total)-len(dataset_test)- 60:].values\n",
        "inputs = inputs. reshape(-1,1)\n",
        "inputs = sc .transform(inputs)\n",
        "X_test = []\n",
        "for i in range (60,80):\n",
        "   X_test.append(inputs[i-60:i, 0])\n",
        "X_test = np.array(x_train)\n",
        "X_test = np.reshape(X_test,(X_test. shape[0],X_test.shape[1],1))"
      ],
      "metadata": {
        "id": "7LI-473jjr5l"
      },
      "execution_count": null,
      "outputs": []
    },
    {
      "cell_type": "code",
      "source": [
        "predicted_stock_price=regressor.predict(X_test)\n",
        "\n",
        "predicted_stock_price=sc.inverse_transform(predicted_stock_price)"
      ],
      "metadata": {
        "id": "LWCHqACvtTBp",
        "colab": {
          "base_uri": "https://localhost:8080/"
        },
        "outputId": "784a64aa-86ac-4b61-deda-ea34f24fd18d"
      },
      "execution_count": null,
      "outputs": [
        {
          "output_type": "stream",
          "name": "stdout",
          "text": [
            "38/38 [==============================] - 1s 38ms/step\n"
          ]
        }
      ]
    },
    {
      "cell_type": "code",
      "source": [
        "plt.plot(real_stock_price,color='red',label = 'Real Google Stock Price' )\n",
        "plt.plot(predicted_stock_price,color='blue',label = 'Predicted Google Stock Price' )\n",
        "plt.title('Google Stock Price Prediction')\n",
        "plt.xlabel=('Time')\n",
        "plt.Ylabel=('Google Stock Price')\n",
        "plt.legend()\n",
        "plt.show()"
      ],
      "metadata": {
        "id": "E6aa6sDEZ3wa",
        "colab": {
          "base_uri": "https://localhost:8080/",
          "height": 250
        },
        "outputId": "630de5ee-2df8-4e9a-cd31-2250f13d7a35"
      },
      "execution_count": null,
      "outputs": [
        {
          "output_type": "display_data",
          "data": {
            "text/plain": [
              "<Figure size 640x480 with 1 Axes>"
            ],
            "image/png": "[encoded data removed]"
          },
          "metadata": {}
        }
      ]
    }
  ]
}